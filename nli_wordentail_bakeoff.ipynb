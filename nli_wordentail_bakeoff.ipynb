{
 "cells": [
  {
   "cell_type": "markdown",
   "metadata": {},
   "source": [
    "# Bake-off: Word-level entailment with neural networks"
   ]
  },
  {
   "cell_type": "code",
   "execution_count": 2,
   "metadata": {},
   "outputs": [],
   "source": [
    "__author__ = \"Christopher Potts\"\n",
    "__version__ = \"CS224u, Stanford, Spring 2018\""
   ]
  },
  {
   "cell_type": "markdown",
   "metadata": {},
   "source": [
    "## Contents\n",
    "\n",
    "0. [Overview](#Overview)\n",
    "0. [Set-up](#Set-up)\n",
    "0. [Data](#Data)\n",
    "  0. [Edge disjoint](#Edge-disjoint)\n",
    "  0. [Word disjoint](#Word-disjoint)\n",
    "  0. [Word disjoint and balanced](#Word-disjoint-and-balanced)\n",
    "0. [Baseline](#Baseline)\n",
    "  0. [Representing words: vector_func](#Representing-words:-vector_func)\n",
    "  0. [Combining words into inputs: vector_combo_func](#Combining-words-into-inputs:-vector_combo_func)\n",
    "  0. [Classifier model](#Classifier-model)\n",
    "  0. [Baseline results](#Baseline-results)\n",
    "0. [Bake-off submission](#Bake-off-submission)"
   ]
  },
  {
   "cell_type": "markdown",
   "metadata": {},
   "source": [
    "## Overview"
   ]
  },
  {
   "cell_type": "markdown",
   "metadata": {},
   "source": [
    "__Problem__: Word-level natural language inference.\n",
    "\n",
    "Training examples are pairs of words $(w_{L}, w_{R}), y$ with $y$ a relation in\n",
    "\n",
    "* __synonym__: very roughly identical meanings; symmetric\n",
    "* __hyponym__: e.g., _puppy_ is a hyponym of _dog_\n",
    "* __hypernym__:  e.g., _dog_ is a hypernym of _puppy_\n",
    "* __antonym__: semantically opposed within a domain; symmetric\n",
    "\n",
    "The dataset is due to [Bowman et al. 2015](https://arxiv.org/abs/1406.1827). See [below](#Data) for details on how it was processed for this bake-off."
   ]
  },
  {
   "cell_type": "markdown",
   "metadata": {},
   "source": [
    "## Set-up"
   ]
  },
  {
   "cell_type": "markdown",
   "metadata": {},
   "source": [
    "0. Make sure your environment includes all the requirements for [the cs224u repository](https://github.com/cgpotts/cs224u/).\n",
    "\n",
    "0. Make sure you have the [the Wikipedia 2014 + Gigaword 5 distribution](http://nlp.stanford.edu/data/glove.6B.zip) of  pretrained GloVe vectors downloaded and unzipped, and that `glove_home` below is pointing to it.\n",
    "\n",
    "0. Make sure `wordentail_filename` below is pointing to the full path for `nli_wordentail_bakeoff_data.json`, which is included in [the nlidata.zip archive](http://web.stanford.edu/class/cs224u/data/nlidata.zip)."
   ]
  },
  {
   "cell_type": "code",
   "execution_count": 1,
   "metadata": {},
   "outputs": [],
   "source": [
    "from collections import defaultdict\n",
    "import json\n",
    "import numpy as np\n",
    "import os\n",
    "import pandas as pd\n",
    "import tensorflow as tf\n",
    "from tf_shallow_neural_classifier import TfShallowNeuralClassifier\n",
    "import nli\n",
    "import utils"
   ]
  },
  {
   "cell_type": "code",
   "execution_count": 2,
   "metadata": {},
   "outputs": [],
   "source": [
    "nlidata_home = 'nlidata'\n",
    "\n",
    "wordentail_filename = os.path.join(\n",
    "    nlidata_home, 'nli_wordentail_bakeoff_data.json')\n",
    "\n",
    "glove_home = os.path.join(\"vsmdata\", \"glove.6B\")"
   ]
  },
  {
   "cell_type": "markdown",
   "metadata": {},
   "source": [
    "## Data\n",
    "\n",
    "As noted above, the dataset was originally released by [Bowman et al. 2015](https://arxiv.org/abs/1406.1827), who derived it from [WordNet](https://wordnet.princeton.edu) using some heuristics (and thus it might contain some errors or unintuitive pairings).\n",
    "\n",
    "I've processed the data into three different train/test splits, in an effort to put some pressure on our models to actually learn these semantic relations, as opposed to exploiting regularities in the sample.\n",
    "\n",
    "* `edge_disjoint`: The `train` and `dev` __edge__ sets are disjoint, but many __words__ appear in both `train` and `dev`.\n",
    "* `word_disjoint`: The `train` and `dev` __vocabularies are disjoint__, and thus the edges are disjoint as well.\n",
    "* `word_disjoint_balanced`: Like `word_disjoint`, but with each word appearing at most one time as the left word and at most one time on the right for a given relation type.\n",
    "\n",
    "These are progressively harder problems\n",
    "\n",
    "* For `word_disjoint`, there is real pressure on the model to learn abstract relationships, as opposed to memorizing properties of individual words.\n",
    "\n",
    "* For `word_disjoint_balanced`, the model can't even learn that some terms tend to appear more on the left or the right. This might be a step too far. For example, appearing more on the right for `hypernym` corresponds in a deep way with being a more general term, which is a non-trivial lexical property that we want our models to learn."
   ]
  },
  {
   "cell_type": "code",
   "execution_count": 3,
   "metadata": {},
   "outputs": [],
   "source": [
    "with open(wordentail_filename) as f:\n",
    "    wordentail_data = json.load(f)"
   ]
  },
  {
   "cell_type": "markdown",
   "metadata": {},
   "source": [
    "The outer keys are the three splits plus a list giving the vocabulary for the entire dataset:"
   ]
  },
  {
   "cell_type": "code",
   "execution_count": 4,
   "metadata": {},
   "outputs": [
    {
     "data": {
      "text/plain": [
       "dict_keys(['edge_disjoint', 'vocab', 'word_disjoint', 'word_disjoint_balanced'])"
      ]
     },
     "execution_count": 4,
     "metadata": {},
     "output_type": "execute_result"
    }
   ],
   "source": [
    "wordentail_data.keys()"
   ]
  },
  {
   "cell_type": "markdown",
   "metadata": {},
   "source": [
    "### Edge disjoint"
   ]
  },
  {
   "cell_type": "code",
   "execution_count": 4,
   "metadata": {},
   "outputs": [
    {
     "data": {
      "text/plain": [
       "dict_keys(['dev', 'train'])"
      ]
     },
     "execution_count": 4,
     "metadata": {},
     "output_type": "execute_result"
    }
   ],
   "source": [
    "wordentail_data['edge_disjoint'].keys()"
   ]
  },
  {
   "cell_type": "markdown",
   "metadata": {},
   "source": [
    "This is what the split looks like; all three have this same format:"
   ]
  },
  {
   "cell_type": "code",
   "execution_count": 5,
   "metadata": {},
   "outputs": [
    {
     "data": {
      "text/plain": [
       "[[['archived', 'records'], 'synonym'],\n",
       " [['stage', 'station'], 'synonym'],\n",
       " [['engineers', 'design'], 'hypernym'],\n",
       " [['save', 'book'], 'hypernym'],\n",
       " [['match', 'supply'], 'hypernym']]"
      ]
     },
     "execution_count": 5,
     "metadata": {},
     "output_type": "execute_result"
    }
   ],
   "source": [
    "wordentail_data['edge_disjoint']['dev'][: 5]"
   ]
  },
  {
   "cell_type": "markdown",
   "metadata": {},
   "source": [
    "Let's test to make sure no edges are shared between `train` and `dev`:"
   ]
  },
  {
   "cell_type": "code",
   "execution_count": 6,
   "metadata": {},
   "outputs": [
    {
     "data": {
      "text/plain": [
       "0"
      ]
     },
     "execution_count": 6,
     "metadata": {},
     "output_type": "execute_result"
    }
   ],
   "source": [
    "nli.get_edge_overlap_size(wordentail_data, 'edge_disjoint')"
   ]
  },
  {
   "cell_type": "markdown",
   "metadata": {},
   "source": [
    "As we expect, a *lot* of vocabulary items are shared between `train` and `dev`:"
   ]
  },
  {
   "cell_type": "code",
   "execution_count": 7,
   "metadata": {},
   "outputs": [
    {
     "data": {
      "text/plain": [
       "4769"
      ]
     },
     "execution_count": 7,
     "metadata": {},
     "output_type": "execute_result"
    }
   ],
   "source": [
    "nli.get_vocab_overlap_size(wordentail_data, 'edge_disjoint')"
   ]
  },
  {
   "cell_type": "markdown",
   "metadata": {},
   "source": [
    "This is a large percentage of the entire vocab:"
   ]
  },
  {
   "cell_type": "code",
   "execution_count": 8,
   "metadata": {},
   "outputs": [
    {
     "data": {
      "text/plain": [
       "6560"
      ]
     },
     "execution_count": 8,
     "metadata": {},
     "output_type": "execute_result"
    }
   ],
   "source": [
    "len(wordentail_data['vocab'])"
   ]
  },
  {
   "cell_type": "markdown",
   "metadata": {},
   "source": [
    "Here's the distribution of labels in the `train` set. It's highly imbalanced, which will pose a challenge. (I'll go ahead and reveal that the `dev` set is similarly distributed.)"
   ]
  },
  {
   "cell_type": "code",
   "execution_count": 96,
   "metadata": {},
   "outputs": [],
   "source": [
    "def label_distribution(split):\n",
    "    return pd.DataFrame(wordentail_data[split]['train'])[1].value_counts()"
   ]
  },
  {
   "cell_type": "code",
   "execution_count": 11,
   "metadata": {},
   "outputs": [
    {
     "data": {
      "text/plain": [
       "synonym     8865\n",
       "hypernym    6475\n",
       "hyponym     1044\n",
       "antonym      629\n",
       "Name: 1, dtype: int64"
      ]
     },
     "execution_count": 11,
     "metadata": {},
     "output_type": "execute_result"
    }
   ],
   "source": [
    "label_distribution('edge_disjoint')"
   ]
  },
  {
   "cell_type": "markdown",
   "metadata": {},
   "source": [
    "### Word disjoint"
   ]
  },
  {
   "cell_type": "code",
   "execution_count": 12,
   "metadata": {},
   "outputs": [
    {
     "data": {
      "text/plain": [
       "dict_keys(['dev', 'train'])"
      ]
     },
     "execution_count": 12,
     "metadata": {},
     "output_type": "execute_result"
    }
   ],
   "source": [
    "wordentail_data['word_disjoint'].keys()"
   ]
  },
  {
   "cell_type": "markdown",
   "metadata": {},
   "source": [
    "In the `word_disjoint` split, no __words__ are shared between `train` and `dev`:"
   ]
  },
  {
   "cell_type": "code",
   "execution_count": 13,
   "metadata": {},
   "outputs": [
    {
     "data": {
      "text/plain": [
       "0"
      ]
     },
     "execution_count": 13,
     "metadata": {},
     "output_type": "execute_result"
    }
   ],
   "source": [
    "nli.get_vocab_overlap_size(wordentail_data, 'word_disjoint')"
   ]
  },
  {
   "cell_type": "markdown",
   "metadata": {},
   "source": [
    "Because no words are shared between `train` and `dev`, no edges are either:"
   ]
  },
  {
   "cell_type": "code",
   "execution_count": 14,
   "metadata": {},
   "outputs": [
    {
     "data": {
      "text/plain": [
       "0"
      ]
     },
     "execution_count": 14,
     "metadata": {},
     "output_type": "execute_result"
    }
   ],
   "source": [
    "nli.get_edge_overlap_size(wordentail_data, 'word_disjoint')"
   ]
  },
  {
   "cell_type": "markdown",
   "metadata": {},
   "source": [
    "The label distribution is similar to that of `edge_disjoint`, though the overall number of examples is a bit smaller:"
   ]
  },
  {
   "cell_type": "code",
   "execution_count": 15,
   "metadata": {},
   "outputs": [
    {
     "data": {
      "text/plain": [
       "synonym     5610\n",
       "hypernym    3993\n",
       "hyponym      627\n",
       "antonym      386\n",
       "Name: 1, dtype: int64"
      ]
     },
     "execution_count": 15,
     "metadata": {},
     "output_type": "execute_result"
    }
   ],
   "source": [
    "label_distribution('word_disjoint')"
   ]
  },
  {
   "cell_type": "markdown",
   "metadata": {},
   "source": [
    "There is still an important bias in the data: some words appear much more often than others, and in specific positions. For example, the very general term `part` appears on the right in a large number of cases, many of them `hypernym`."
   ]
  },
  {
   "cell_type": "code",
   "execution_count": 16,
   "metadata": {},
   "outputs": [
    {
     "data": {
      "text/plain": [
       "[[['frames', 'part'], 'hypernym'],\n",
       " [['heaven', 'part'], 'hypernym'],\n",
       " [['pan', 'part'], 'synonym'],\n",
       " [['middle', 'part'], 'hypernym'],\n",
       " [['shared', 'part'], 'synonym'],\n",
       " [['shares', 'part'], 'synonym'],\n",
       " [['ended', 'part'], 'hypernym'],\n",
       " [['twin', 'part'], 'synonym'],\n",
       " [['meal', 'part'], 'synonym'],\n",
       " [['bit', 'part'], 'hypernym'],\n",
       " [['sections', 'part'], 'synonym'],\n",
       " [['capacity', 'part'], 'hypernym'],\n",
       " [['beginning', 'part'], 'hypernym'],\n",
       " [['divorce', 'part'], 'hypernym'],\n",
       " [['paradise', 'part'], 'hypernym'],\n",
       " [['ends', 'part'], 'hypernym'],\n",
       " [['reduced', 'part'], 'hypernym'],\n",
       " [['units', 'part'], 'hypernym'],\n",
       " [['corner', 'part'], 'hypernym'],\n",
       " [['air', 'part'], 'hypernym'],\n",
       " [['section', 'part'], 'synonym'],\n",
       " [['something', 'part'], 'synonym'],\n",
       " [['reduce', 'part'], 'hypernym'],\n",
       " [['some', 'part'], 'synonym'],\n",
       " [['heavy', 'part'], 'hypernym'],\n",
       " [['segment', 'part'], 'hypernym'],\n",
       " [['share', 'part'], 'synonym'],\n",
       " [['hat', 'part'], 'hypernym'],\n",
       " [['maria', 'part'], 'hypernym'],\n",
       " [['way', 'part'], 'hypernym'],\n",
       " [['interests', 'part'], 'synonym']]"
      ]
     },
     "execution_count": 16,
     "metadata": {},
     "output_type": "execute_result"
    }
   ],
   "source": [
    "[[ex, y] for ex, y in wordentail_data['word_disjoint']['train'] \n",
    " if ex[1] == 'part']"
   ]
  },
  {
   "cell_type": "markdown",
   "metadata": {},
   "source": [
    "These tabulations suggest that a classifier could do well just by learning where words tend to appear:"
   ]
  },
  {
   "cell_type": "code",
   "execution_count": 17,
   "metadata": {},
   "outputs": [],
   "source": [
    "def count_label_position_instances(split, pos=0):\n",
    "    examples = wordentail_data[split]['train']    \n",
    "    return pd.Series([(ex[pos], label) for ex, label in examples]).value_counts()"
   ]
  },
  {
   "cell_type": "code",
   "execution_count": 18,
   "metadata": {},
   "outputs": [
    {
     "data": {
      "text/plain": [
       "(forms, hypernym)       9\n",
       "(items, synonym)        8\n",
       "(questions, synonym)    8\n",
       "(lots, synonym)         8\n",
       "(question, synonym)     8\n",
       "dtype: int64"
      ]
     },
     "execution_count": 18,
     "metadata": {},
     "output_type": "execute_result"
    }
   ],
   "source": [
    "count_label_position_instances('word_disjoint', pos=0).head()"
   ]
  },
  {
   "cell_type": "code",
   "execution_count": 19,
   "metadata": {},
   "outputs": [
    {
     "data": {
      "text/plain": [
       "(be, hypernym)        51\n",
       "(take, hypernym)      39\n",
       "(alter, hypernym)     38\n",
       "(person, hypernym)    33\n",
       "(modify, hypernym)    32\n",
       "dtype: int64"
      ]
     },
     "execution_count": 19,
     "metadata": {},
     "output_type": "execute_result"
    }
   ],
   "source": [
    "count_label_position_instances('word_disjoint', pos=1).head()"
   ]
  },
  {
   "cell_type": "markdown",
   "metadata": {},
   "source": [
    "### Word disjoint and balanced\n",
    "\n",
    "To see how much our models are leveraging the uneven distribution of words across the left and right positions, we also have a split in which each word $w$ appears in at most one item $((w, w_{R}), y)$ and at most one item $((w_{L}, w), y)$.\n",
    "\n",
    "The following tests establish that the dataset has the desired properties:"
   ]
  },
  {
   "cell_type": "code",
   "execution_count": 20,
   "metadata": {},
   "outputs": [
    {
     "data": {
      "text/plain": [
       "dict_keys(['dev', 'train'])"
      ]
     },
     "execution_count": 20,
     "metadata": {},
     "output_type": "execute_result"
    }
   ],
   "source": [
    "wordentail_data['word_disjoint_balanced'].keys()"
   ]
  },
  {
   "cell_type": "code",
   "execution_count": 21,
   "metadata": {},
   "outputs": [
    {
     "data": {
      "text/plain": [
       "0"
      ]
     },
     "execution_count": 21,
     "metadata": {},
     "output_type": "execute_result"
    }
   ],
   "source": [
    "nli.get_edge_overlap_size(wordentail_data, 'word_disjoint_balanced')"
   ]
  },
  {
   "cell_type": "code",
   "execution_count": 22,
   "metadata": {},
   "outputs": [
    {
     "data": {
      "text/plain": [
       "0"
      ]
     },
     "execution_count": 22,
     "metadata": {},
     "output_type": "execute_result"
    }
   ],
   "source": [
    "nli.get_vocab_overlap_size(wordentail_data, 'word_disjoint_balanced')"
   ]
  },
  {
   "cell_type": "code",
   "execution_count": 23,
   "metadata": {},
   "outputs": [
    {
     "data": {
      "text/plain": [
       "[[['frames', 'part'], 'hypernym'], [['pan', 'part'], 'synonym']]"
      ]
     },
     "execution_count": 23,
     "metadata": {},
     "output_type": "execute_result"
    }
   ],
   "source": [
    "[[ex, y] for ex, y in wordentail_data['word_disjoint_balanced']['train'] \n",
    " if ex[1] == 'part']"
   ]
  },
  {
   "cell_type": "code",
   "execution_count": 24,
   "metadata": {},
   "outputs": [
    {
     "data": {
      "text/plain": [
       "(import, antonym)          1\n",
       "(strip, hypernym)          1\n",
       "(state, synonym)           1\n",
       "(subsequently, synonym)    1\n",
       "(life, synonym)            1\n",
       "dtype: int64"
      ]
     },
     "execution_count": 24,
     "metadata": {},
     "output_type": "execute_result"
    }
   ],
   "source": [
    "count_label_position_instances('word_disjoint_balanced', pos=0).head()"
   ]
  },
  {
   "cell_type": "code",
   "execution_count": 25,
   "metadata": {},
   "outputs": [
    {
     "data": {
      "text/plain": [
       "(distance, synonym)    1\n",
       "(chief, synonym)       1\n",
       "(sign, hypernym)       1\n",
       "(visual, synonym)      1\n",
       "(please, synonym)      1\n",
       "dtype: int64"
      ]
     },
     "execution_count": 25,
     "metadata": {},
     "output_type": "execute_result"
    }
   ],
   "source": [
    "count_label_position_instances('word_disjoint_balanced', pos=1).head()"
   ]
  },
  {
   "cell_type": "markdown",
   "metadata": {},
   "source": [
    "## Baseline"
   ]
  },
  {
   "cell_type": "markdown",
   "metadata": {},
   "source": [
    "Even in deep learning, __feature representation is the most important thing and requires care!__\n",
    "For our task, feature representation has two parts: representing the individual words and combining those representations into a single network input."
   ]
  },
  {
   "cell_type": "markdown",
   "metadata": {},
   "source": [
    "### Representing words: vector_func"
   ]
  },
  {
   "cell_type": "markdown",
   "metadata": {},
   "source": [
    "Let's consider two baseline word representations methods:\n",
    "\n",
    "1. Random vectors (as returned by `utils.randvec`).\n",
    "1. 50-dimensional GloVe representations."
   ]
  },
  {
   "cell_type": "code",
   "execution_count": 5,
   "metadata": {},
   "outputs": [],
   "source": [
    "def randvec(w, n=50, lower=-1.0, upper=1.0):\n",
    "    \"\"\"Returns a random vector of length `n`. `w` is ignored.\"\"\"\n",
    "    return utils.randvec(n=n, lower=lower, upper=upper)"
   ]
  },
  {
   "cell_type": "code",
   "execution_count": 6,
   "metadata": {},
   "outputs": [],
   "source": [
    "# Any of the files in glove.6B will work here:\n",
    "glove50_src = os.path.join(glove_home, 'glove.6B.50d.txt')\n",
    "\n",
    "# Creates a dict mapping strings (words) to GloVe vectors:\n",
    "GLOVE50 = utils.glove2dict(glove50_src)\n",
    "\n",
    "def glove50vec(w):    \n",
    "    \"\"\"Return `w`'s GloVe representation if available, else return \n",
    "    a random vector.\"\"\"\n",
    "    return GLOVE50.get(w, randvec(w, n=50))"
   ]
  },
  {
   "cell_type": "markdown",
   "metadata": {},
   "source": [
    "### Combining words into inputs: vector_combo_func"
   ]
  },
  {
   "cell_type": "markdown",
   "metadata": {},
   "source": [
    "Here we decide how to combine the two word vectors into a single representation. In more detail, where `u` is a vector representation of the left word and `v` is a vector representation of the right word, we need a function `vector_combo_func` such that `vector_combo_func(u, v)` returns a new input vector `z` of dimension `m`. A simple example is concatenation:"
   ]
  },
  {
   "cell_type": "code",
   "execution_count": 7,
   "metadata": {},
   "outputs": [],
   "source": [
    "def vec_concatenate(u, v):\n",
    "    \"\"\"Concatenate np.array instances `u` and `v` into a new np.array\"\"\"\n",
    "    return np.concatenate((u, v))"
   ]
  },
  {
   "cell_type": "markdown",
   "metadata": {},
   "source": [
    "`vector_combo_func` could instead be vector average, vector difference, etc. (even combinations of those) – there's lots of space for experimentation here."
   ]
  },
  {
   "cell_type": "markdown",
   "metadata": {},
   "source": [
    "### Classifier model\n",
    "\n",
    "For a baseline model, I chose `TfShallowNeuralClassifier` with a pretty large hidden layer and a correspondingly high number of iterations. "
   ]
  },
  {
   "cell_type": "code",
   "execution_count": 8,
   "metadata": {},
   "outputs": [],
   "source": [
    "net = TfShallowNeuralClassifier(hidden_dim=200, max_iter=500)"
   ]
  },
  {
   "cell_type": "markdown",
   "metadata": {},
   "source": [
    "### Baseline results\n",
    "\n",
    "The following puts the above pieces together, using `vector_func=glove50vec`, since `vector_func=randvec` seems so hopelessly misguided for `word_disjoint` and `word_disjoint_balanced`!\n",
    "\n",
    "First, we build the dataset:"
   ]
  },
  {
   "cell_type": "code",
   "execution_count": 9,
   "metadata": {},
   "outputs": [],
   "source": [
    "X = nli.build_bakeoff_dataset(\n",
    "    wordentail_data, \n",
    "    vector_func=glove50vec,\n",
    "    vector_combo_func=vec_concatenate)"
   ]
  },
  {
   "cell_type": "markdown",
   "metadata": {},
   "source": [
    "And then we run the experiment with `nli.bakeoff_experiment`. This trains and tests on all three splits, and additionally trains on `word_disjoint`'s `train` portion and tests on `word_disjoint_balanced`'s `dev` portion, to see what distribution of examples is more effective for this balanced evaluation.\n",
    "\n",
    "Since the bake-off focus is `word_disjoint`, you might want to run just that evaluation. To to that, use:"
   ]
  },
  {
   "cell_type": "code",
   "execution_count": 11,
   "metadata": {
    "scrolled": true
   },
   "outputs": [
    {
     "name": "stderr",
     "output_type": "stream",
     "text": [
      "Iteration 500: loss: 9.8291873931884778"
     ]
    },
    {
     "name": "stdout",
     "output_type": "stream",
     "text": [
      "======================================================================\n",
      "word_disjoint\n",
      "             precision    recall  f1-score   support\n",
      "\n",
      "    antonym       0.00      0.00      0.00       150\n",
      "   hypernym       0.55      0.41      0.47      1594\n",
      "    hyponym       0.20      0.01      0.02       275\n",
      "    synonym       0.58      0.79      0.67      2229\n",
      "\n",
      "avg / total       0.52      0.57      0.53      4248\n",
      "\n"
     ]
    }
   ],
   "source": [
    "nli.bakeoff_experiment(X, net, conditions=['word_disjoint'])"
   ]
  },
  {
   "cell_type": "markdown",
   "metadata": {},
   "source": [
    "This will run the complete evaluation:"
   ]
  },
  {
   "cell_type": "code",
   "execution_count": 33,
   "metadata": {
    "collapsed": true
   },
   "outputs": [
    {
     "name": "stderr",
     "output_type": "stream",
     "text": [
      "Iteration 500: loss: 15.285638093948364/Users/itsmrlin/workspace/cs224u/venv/lib/python3.6/site-packages/sklearn/metrics/classification.py:1135: UndefinedMetricWarning: Precision and F-score are ill-defined and being set to 0.0 in labels with no predicted samples.\n",
      "  'precision', 'predicted', average, warn_for)\n"
     ]
    },
    {
     "name": "stdout",
     "output_type": "stream",
     "text": [
      "======================================================================\n",
      "edge_disjoint\n",
      "             precision    recall  f1-score   support\n",
      "\n",
      "    antonym       0.00      0.00      0.00       392\n",
      "   hypernym       0.57      0.45      0.50      4310\n",
      "    hyponym       0.45      0.04      0.07       710\n",
      "    synonym       0.59      0.79      0.68      5930\n",
      "\n",
      "avg / total       0.55      0.59      0.55     11342\n",
      "\n"
     ]
    },
    {
     "name": "stderr",
     "output_type": "stream",
     "text": [
      "Iteration 6: loss: 3.706857800483703674"
     ]
    },
    {
     "name": "stdout",
     "output_type": "stream",
     "text": [
      "======================================================================\n",
      "word_disjoint\n",
      "             precision    recall  f1-score   support\n",
      "\n",
      "    antonym       0.00      0.00      0.00       150\n",
      "   hypernym       0.54      0.42      0.47      1594\n",
      "    hyponym       0.14      0.01      0.02       275\n",
      "    synonym       0.58      0.78      0.67      2229\n",
      "\n",
      "avg / total       0.52      0.57      0.53      4248\n",
      "\n"
     ]
    },
    {
     "name": "stderr",
     "output_type": "stream",
     "text": [
      "Iteration 1: loss: 13.39137732982635585"
     ]
    },
    {
     "name": "stdout",
     "output_type": "stream",
     "text": [
      "======================================================================\n",
      "word_disjoint_balanced\n",
      "             precision    recall  f1-score   support\n",
      "\n",
      "    antonym       0.00      0.00      0.00       115\n",
      "   hypernym       0.48      0.27      0.35       511\n",
      "    hyponym       0.29      0.02      0.03       118\n",
      "    synonym       0.55      0.84      0.66       831\n",
      "\n",
      "avg / total       0.47      0.53      0.47      1575\n",
      "\n"
     ]
    },
    {
     "name": "stderr",
     "output_type": "stream",
     "text": [
      "Iteration 500: loss: 9.7942168712615977"
     ]
    },
    {
     "name": "stdout",
     "output_type": "stream",
     "text": [
      "======================================================================\n",
      "word_disjoint_balanced, training on word_disjoint\n",
      "             precision    recall  f1-score   support\n",
      "\n",
      "    antonym       0.00      0.00      0.00       115\n",
      "   hypernym       0.47      0.41      0.43       511\n",
      "    hyponym       0.18      0.02      0.03       118\n",
      "    synonym       0.58      0.78      0.66       831\n",
      "\n",
      "avg / total       0.47      0.54      0.49      1575\n",
      "\n"
     ]
    }
   ],
   "source": [
    "nli.bakeoff_experiment(X, net)"
   ]
  },
  {
   "cell_type": "markdown",
   "metadata": {},
   "source": [
    "## Bake-off submission"
   ]
  },
  {
   "cell_type": "markdown",
   "metadata": {
    "collapsed": true
   },
   "source": [
    "__The goal__: achieve the highest average F1 score on __word_disjoint__.\n",
    "\n",
    "__Submit:__\n",
    "\n",
    "* Your score on the `word_disjoint` split.\n",
    "* A description of the method you used: \n",
    "   * Your approach to representing words.\n",
    "   * Your approach to combining them into inputs.\n",
    "   * The model you used for predictions.\n",
    "   \n",
    "__Submission URL__: https://goo.gl/forms/CizXwS3kfPjsThxA3   \n",
    "\n",
    "__Notes:__\n",
    "\n",
    "* For the methods, the only requirement is that they differ in some way from the baseline above. They don't have to be completely different, though. For example, you might want to stick with the model but represent examples differently, or the reverse.\n",
    "\n",
    "* You must train only on the `train` split. No outside training instances can be brought in. You can, though, bring in outside information via your input vectors, as long as this information is not from `dev` or `edge_disjoint`. \n",
    "\n",
    "* You can also augment your training data. For example, if `((A, B), synonym)` is a training instance, then so should be `((B, A), synonym)`. Similarly, `((A, B), hyponym)`  and `((B, C), hyponym)` are training cases, then so should be `((A, C), hyponym)`.\n",
    "\n",
    "* Since the evaluation is for `word_disjoint`, you're not going to get very far with random input vectors! A GloVe featurizer is defined above. Feel free to look around for new word vectors on the Web, or even train your own using our VSM notebooks.\n",
    "\n",
    "* You're not required to stick to `TfShallowNeuralNetwork`. For instance, you could create deeper feed-forward networks, change how they optimize, etc. As long as you have `fit` and `predict` methods with the same input and output types as our networks, you should be able to use `bakeoff_experiment`. For notes on how to extend the TensorFlow models included in this repository, see [tensorflow_models.ipynb](tensorflow_models.ipynb)."
   ]
  },
  {
   "cell_type": "code",
   "execution_count": 10,
   "metadata": {},
   "outputs": [],
   "source": [
    "from collections import Counter\n",
    "import numpy as np\n",
    "from tf_rnn_classifier import TfRNNClassifier"
   ]
  },
  {
   "cell_type": "code",
   "execution_count": 23,
   "metadata": {},
   "outputs": [],
   "source": [
    "def vec_double_concatenate(u, v):\n",
    "    return np.concatenate((u, v, u))\n",
    "def vec_add(u, v):\n",
    "    return np.array(u) + np.array(v)"
   ]
  },
  {
   "cell_type": "code",
   "execution_count": 39,
   "metadata": {},
   "outputs": [],
   "source": [
    "def augment_data(wordentail_data):\n",
    "    # augment dataa\n",
    "    aug_wordentail_data = {}\n",
    "    aug_wordentail_data['vocab'] = wordentail_data['vocab']\n",
    "    for disjoint_type in ['edge_disjoint', 'word_disjoint', 'word_disjoint_balanced']:\n",
    "        aug_wordentail_data[disjoint_type] = {}\n",
    "        for split in wordentail_data[disjoint_type]:\n",
    "            print(disjoint_type, split)\n",
    "            if split != 'train':\n",
    "                aug_wordentail_data[disjoint_type][split] = wordentail_data[disjoint_type][split]\n",
    "            else:\n",
    "                aug_wordentail_data[disjoint_type][split] = set()\n",
    "                hyponyms = {}\n",
    "                hyper_hypo_count = 0\n",
    "                for pair in wordentail_data[disjoint_type][split]:\n",
    "                    w1, w2 = pair[0]\n",
    "                    aug_wordentail_data[disjoint_type][split].add((w1, w2, pair[1]))\n",
    "                    if pair[1] == 'synonym':\n",
    "                        aug_wordentail_data[disjoint_type][split].add((w2, w1, 'synonym'))\n",
    "                    elif pair[1] == 'hyponym':\n",
    "                        if w1 not in hyponyms:\n",
    "                            hyponyms[w1] = []\n",
    "                        hyponyms[w1].append(w2)\n",
    "                    elif pair[1] == 'hypernym':\n",
    "                        if w2 not in hyponyms:\n",
    "                            hyponyms[w2] = []\n",
    "                        hyponyms[w2].append(w1)\n",
    "                    elif pair[1] == 'antonym':\n",
    "                        aug_wordentail_data[disjoint_type][split].add((w2, w1, 'antonym'))\n",
    "                print(len(hyponyms.keys()), np.sum([len(x) for x in hyponyms.values()]))\n",
    "                # move one level down in hyponym each step\n",
    "                last_data_size = 0\n",
    "                curr_level_hyponyms = hyponyms.copy()\n",
    "                count = 0\n",
    "                while (last_data_size != len(aug_wordentail_data[disjoint_type][split])):\n",
    "                    print(last_data_size, len(aug_wordentail_data[disjoint_type][split]))\n",
    "                    last_data_size = len(aug_wordentail_data[disjoint_type][split])\n",
    "                    next_level_hyponyms = {}\n",
    "                    for k in curr_level_hyponyms:\n",
    "                        next_level_hyponyms[k] = []\n",
    "                        for v in curr_level_hyponyms[k]:\n",
    "                            aug_wordentail_data[disjoint_type][split].add((k, v, 'hyponym'))\n",
    "                            aug_wordentail_data[disjoint_type][split].add((v, k, 'hypernym'))\n",
    "                            if v in hyponyms:\n",
    "                                next_level_hyponyms[k] += hyponyms[v]\n",
    "                    count += 1\n",
    "                    if count == 2:\n",
    "                        break\n",
    "                    curr_level_hyponyms = next_level_hyponyms\n",
    "                aug_wordentail_data[disjoint_type][split] = [((w1, w2), rel) for w1, w2, rel in aug_wordentail_data[disjoint_type][split]]\n",
    "    return aug_wordentail_data"
   ]
  },
  {
   "cell_type": "code",
   "execution_count": 59,
   "metadata": {},
   "outputs": [],
   "source": [
    "def resample_data(wordentail_data, aug_wordentail_data, total_sample_size, evenly_sample=False):\n",
    "    new_data = aug_wordentail_data.copy()\n",
    "    # sample proportionally\n",
    "    for disjoint_type in ['edge_disjoint', 'word_disjoint', 'word_disjoint_balanced']:\n",
    "        type_portion = pd.DataFrame(wordentail_data[disjoint_type]['train'])[1].value_counts(normalize=True).to_dict()\n",
    "        if evenly_sample:\n",
    "            for k in type_portion:\n",
    "                type_portion[k] = 1./len(type_portion)\n",
    "        aug_type_count = pd.DataFrame(aug_wordentail_data[disjoint_type]['train'])[1].value_counts().to_dict()\n",
    "        sample_pool = dict([(t, []) for t in type_portion])\n",
    "        for pair in aug_wordentail_data[disjoint_type]['train']:\n",
    "            sample_pool[pair[1]].append(pair)\n",
    "        samples = np.array([])\n",
    "        samples = samples.reshape(len(samples), 2)\n",
    "        for k in type_portion:\n",
    "            sample_num = int(type_portion[k] * total_sample_size)\n",
    "            if sample_num <= aug_type_count[k]:\n",
    "                sample_idx = np.random.choice(len(sample_pool[k]), size=sample_num, replace=False)\n",
    "                samples = np.concatenate((samples, np.array(sample_pool[k])[sample_idx]))\n",
    "            else:\n",
    "                sample_idx = np.random.choice(len(sample_pool[k]), size=int(sample_num-aug_type_count[k]), replace=True)\n",
    "                samples = np.concatenate((samples, sample_pool[k], np.array(sample_pool[k])[sample_idx]))\n",
    "        new_data[disjoint_type]['train'] = samples\n",
    "    return new_data"
   ]
  },
  {
   "cell_type": "code",
   "execution_count": 60,
   "metadata": {},
   "outputs": [
    {
     "name": "stdout",
     "output_type": "stream",
     "text": [
      "edge_disjoint dev\n",
      "edge_disjoint train\n",
      "2030 7519\n",
      "0 25590\n",
      "25590 32921\n",
      "word_disjoint dev\n",
      "word_disjoint train\n",
      "1262 4620\n",
      "0 15657\n",
      "15657 20071\n",
      "word_disjoint_balanced dev\n",
      "word_disjoint_balanced train\n",
      "1080 1196\n",
      "0 4572\n",
      "4572 5742\n"
     ]
    }
   ],
   "source": [
    "aug_wordentail_data = augment_data(wordentail_data)"
   ]
  },
  {
   "cell_type": "code",
   "execution_count": 61,
   "metadata": {},
   "outputs": [],
   "source": [
    "resample_aug_wordentail_data = resample_data(wordentail_data, aug_wordentail_data, \n",
    "                                             total_sample_size = 40000, evenly_sample=False)"
   ]
  },
  {
   "cell_type": "code",
   "execution_count": 50,
   "metadata": {},
   "outputs": [
    {
     "data": {
      "text/plain": [
       "synonym     5610\n",
       "hypernym    3993\n",
       "hyponym      627\n",
       "antonym      386\n",
       "Name: 1, dtype: int64"
      ]
     },
     "execution_count": 50,
     "metadata": {},
     "output_type": "execute_result"
    }
   ],
   "source": [
    "pd.DataFrame(wordentail_data['word_disjoint']['train'])[1].value_counts()"
   ]
  },
  {
   "cell_type": "code",
   "execution_count": 62,
   "metadata": {},
   "outputs": [
    {
     "data": {
      "text/plain": [
       "synonym     21137\n",
       "hypernym    15045\n",
       "hyponym      2362\n",
       "antonym      1454\n",
       "Name: 1, dtype: int64"
      ]
     },
     "execution_count": 62,
     "metadata": {},
     "output_type": "execute_result"
    }
   ],
   "source": [
    "pd.DataFrame(aug_wordentail_data['word_disjoint']['train'])[1].value_counts()"
   ]
  },
  {
   "cell_type": "code",
   "execution_count": 63,
   "metadata": {},
   "outputs": [
    {
     "data": {
      "text/plain": [
       "synonym     21137\n",
       "hypernym    15045\n",
       "hyponym      2362\n",
       "antonym      1454\n",
       "Name: 1, dtype: int64"
      ]
     },
     "execution_count": 63,
     "metadata": {},
     "output_type": "execute_result"
    }
   ],
   "source": [
    "pd.DataFrame(resample_aug_wordentail_data['word_disjoint']['train'])[1].value_counts()"
   ]
  },
  {
   "cell_type": "code",
   "execution_count": 15,
   "metadata": {},
   "outputs": [],
   "source": [
    "# wordnet synonym smoothing for glove\n",
    "lexicon_filename = os.path.join(nlidata_home, 'wordnet-synonyms+.txt')\n",
    "\n",
    "import re\n",
    "isNumber = re.compile(r'\\d+.*')\n",
    "\n",
    "def norm_word(word):\n",
    "    if isNumber.search(word.lower()):\n",
    "        return '---num---'\n",
    "    elif re.sub(r'\\W+', '', word) == '':\n",
    "        return '---punc---'\n",
    "    else:\n",
    "        return word.lower()\n",
    "\n",
    "def read_lexicon(filename):\n",
    "    lexicon = {}\n",
    "    for line in open(filename, 'r'):\n",
    "        words = line.lower().strip().split()\n",
    "        lexicon[norm_word(words[0])] = [norm_word(word) for word in words[1:]]\n",
    "        #lexicon_set = set(lexicon(norm_word(words[0])))\n",
    "    return lexicon\n",
    "\n",
    "lexicon = read_lexicon(lexicon_filename)\n",
    "\n",
    "def glove50vec_synonym(w):\n",
    "    original = glove50vec(w)\n",
    "\n",
    "    embedding_lookup = GLOVE50\n",
    "    weight = 0.2\n",
    "    vec_syn=[]\n",
    "  \n",
    "    if w in lexicon.keys():\n",
    "        num_syn =len(lexicon[w])\n",
    "        vec_syn_all = [embedding_lookup[ww] for ww in lexicon[w] if ww in embedding_lookup]\n",
    "        if len(vec_syn_all) == 0:\n",
    "            return original\n",
    "        vec_syn_all = np.sum(vec_syn_all, axis=0)/len(vec_syn_all)\n",
    "        return original + weight * vec_syn_all\n",
    "    else:\n",
    "        return randvec(w, n=50)"
   ]
  },
  {
   "cell_type": "code",
   "execution_count": 16,
   "metadata": {},
   "outputs": [],
   "source": [
    "def get_vocab(X, n_words=None):\n",
    "    wc = Counter([w for pair in X for w in pair[0]])\n",
    "    wc = wc.most_common(n_words) if n_words else wc.items()\n",
    "    vocab = {w for w, c in wc}\n",
    "    vocab.add(\"$UNK\")\n",
    "    return sorted(vocab)\n",
    "vocab = get_vocab(resample_aug_wordentail_data['word_disjoint']['train'])\n",
    "embedding = np.array([glove50vec(w) for w in vocab])"
   ]
  },
  {
   "cell_type": "code",
   "execution_count": 32,
   "metadata": {},
   "outputs": [
    {
     "name": "stderr",
     "output_type": "stream",
     "text": [
      "Iteration 10: loss: 19.852337062358856"
     ]
    },
    {
     "name": "stdout",
     "output_type": "stream",
     "text": [
      "======================================================================\n",
      "word_disjoint\n",
      "             precision    recall  f1-score   support\n",
      "\n",
      "    antonym       0.00      0.00      0.00       150\n",
      "   hypernym       0.00      0.00      0.00      1594\n",
      "    hyponym       0.00      0.00      0.00       275\n",
      "    synonym       0.52      1.00      0.69      2229\n",
      "\n",
      "avg / total       0.28      0.52      0.36      4248\n",
      "\n"
     ]
    }
   ],
   "source": [
    "# rnn_mod = TfRNNClassifier(\n",
    "#             vocab, \n",
    "#             eta=0.05,\n",
    "#             batch_size=10,\n",
    "#             embed_dim=10,\n",
    "#             hidden_dim=10,\n",
    "#             max_length=10, \n",
    "#             max_iter=2,\n",
    "#             embedding=embedding,\n",
    "#             cell_class=tf.nn.rnn_cell.LSTMCell,\n",
    "#             hidden_activation=tf.nn.relu,\n",
    "#             train_embedding=False)\n",
    "\n",
    "rnn_mod = TfRNNClassifier(vocab, \n",
    "                        hidden_dim=50,\n",
    "                        embed_dim=50,\n",
    "                        eta=0.05,\n",
    "                        cell_class=tf.nn.rnn_cell.LSTMCell,\n",
    "                        hidden_activation=tf.nn.relu,\n",
    "                        max_iter=10)\n",
    "    \n",
    "nli.bakeoff_experiment(aug_X, rnn_mod, conditions=['word_disjoint'])"
   ]
  },
  {
   "cell_type": "code",
   "execution_count": 72,
   "metadata": {},
   "outputs": [
    {
     "name": "stderr",
     "output_type": "stream",
     "text": [
      "Iteration 3000: loss: 10.319462835788727"
     ]
    },
    {
     "name": "stdout",
     "output_type": "stream",
     "text": [
      "======================================================================\n",
      "word_disjoint\n",
      "             precision    recall  f1-score   support\n",
      "\n",
      "    antonym       0.09      0.03      0.05       150\n",
      "   hypernym       0.48      0.48      0.48      1594\n",
      "    hyponym       0.14      0.07      0.10       275\n",
      "    synonym       0.58      0.64      0.61      2229\n",
      "\n",
      "avg / total       0.50      0.52      0.51      4248\n",
      "\n"
     ]
    }
   ],
   "source": [
    "aug_reweight_X = nli.build_bakeoff_dataset(\n",
    "        resample_aug_wordentail_data, \n",
    "        vector_func=glove50vec,\n",
    "        vector_combo_func=vec_concatenate)\n",
    "model = TfShallowNeuralClassifier(hidden_dim=300, max_iter=3000)\n",
    "nli.bakeoff_experiment(aug_reweight_X, model, conditions=['word_disjoint'])"
   ]
  },
  {
   "cell_type": "code",
   "execution_count": 71,
   "metadata": {},
   "outputs": [
    {
     "name": "stderr",
     "output_type": "stream",
     "text": [
      "Iteration 1000: loss: 25.755892276763916"
     ]
    },
    {
     "name": "stdout",
     "output_type": "stream",
     "text": [
      "======================================================================\n",
      "word_disjoint\n",
      "             precision    recall  f1-score   support\n",
      "\n",
      "    antonym       0.33      0.01      0.01       150\n",
      "   hypernym       0.51      0.46      0.48      1594\n",
      "    hyponym       0.41      0.03      0.05       275\n",
      "    synonym       0.59      0.73      0.65      2229\n",
      "\n",
      "avg / total       0.54      0.56      0.53      4248\n",
      "\n"
     ]
    }
   ],
   "source": [
    "aug_reweight_X = nli.build_bakeoff_dataset(\n",
    "        resample_aug_wordentail_data, \n",
    "        vector_func=glove50vec,\n",
    "        vector_combo_func=vec_concatenate)\n",
    "model = TfShallowNeuralClassifier(hidden_dim=100, max_iter=1000)\n",
    "nli.bakeoff_experiment(aug_reweight_X, model, conditions=['word_disjoint'])"
   ]
  },
  {
   "cell_type": "code",
   "execution_count": 70,
   "metadata": {},
   "outputs": [
    {
     "name": "stderr",
     "output_type": "stream",
     "text": [
      "Iteration 500: loss: 30.179321885108948"
     ]
    },
    {
     "name": "stdout",
     "output_type": "stream",
     "text": [
      "======================================================================\n",
      "word_disjoint\n",
      "             precision    recall  f1-score   support\n",
      "\n",
      "    antonym       0.00      0.00      0.00       150\n",
      "   hypernym       0.51      0.42      0.46      1594\n",
      "    hyponym       0.25      0.00      0.01       275\n",
      "    synonym       0.58      0.76      0.66      2229\n",
      "\n",
      "avg / total       0.51      0.56      0.52      4248\n",
      "\n"
     ]
    }
   ],
   "source": [
    "aug_reweight_X = nli.build_bakeoff_dataset(\n",
    "        resample_aug_wordentail_data, \n",
    "        vector_func=glove50vec,\n",
    "        vector_combo_func=vec_concatenate)\n",
    "model = TfShallowNeuralClassifier(hidden_dim=100, max_iter=500)\n",
    "nli.bakeoff_experiment(aug_reweight_X, model, conditions=['word_disjoint'])"
   ]
  },
  {
   "cell_type": "code",
   "execution_count": 69,
   "metadata": {},
   "outputs": [
    {
     "name": "stderr",
     "output_type": "stream",
     "text": [
      "Iteration 300: loss: 32.748709917068486"
     ]
    },
    {
     "name": "stdout",
     "output_type": "stream",
     "text": [
      "======================================================================\n",
      "word_disjoint\n",
      "             precision    recall  f1-score   support\n",
      "\n",
      "    antonym       0.00      0.00      0.00       150\n",
      "   hypernym       0.53      0.41      0.46      1594\n",
      "    hyponym       0.00      0.00      0.00       275\n",
      "    synonym       0.58      0.78      0.67      2229\n",
      "\n",
      "avg / total       0.50      0.56      0.52      4248\n",
      "\n"
     ]
    }
   ],
   "source": [
    "aug_reweight_X = nli.build_bakeoff_dataset(\n",
    "        resample_aug_wordentail_data, \n",
    "        vector_func=glove50vec,\n",
    "        vector_combo_func=vec_concatenate)\n",
    "model = TfShallowNeuralClassifier(hidden_dim=100, max_iter=300)\n",
    "nli.bakeoff_experiment(aug_reweight_X, model, conditions=['word_disjoint'])"
   ]
  },
  {
   "cell_type": "code",
   "execution_count": 68,
   "metadata": {},
   "outputs": [
    {
     "name": "stderr",
     "output_type": "stream",
     "text": [
      "Iteration 1000: loss: 27.987963557243347"
     ]
    },
    {
     "name": "stdout",
     "output_type": "stream",
     "text": [
      "======================================================================\n",
      "word_disjoint\n",
      "             precision    recall  f1-score   support\n",
      "\n",
      "    antonym       0.00      0.00      0.00       150\n",
      "   hypernym       0.50      0.45      0.48      1594\n",
      "    hyponym       0.53      0.03      0.06       275\n",
      "    synonym       0.59      0.73      0.65      2229\n",
      "\n",
      "avg / total       0.53      0.56      0.52      4248\n",
      "\n"
     ]
    }
   ],
   "source": [
    "aug_reweight_X = nli.build_bakeoff_dataset(\n",
    "        resample_aug_wordentail_data, \n",
    "        vector_func=glove50vec,\n",
    "        vector_combo_func=vec_concatenate)\n",
    "model = TfShallowNeuralClassifier(hidden_dim=50, max_iter=1000)\n",
    "nli.bakeoff_experiment(aug_reweight_X, model, conditions=['word_disjoint'])"
   ]
  },
  {
   "cell_type": "code",
   "execution_count": 67,
   "metadata": {},
   "outputs": [
    {
     "name": "stderr",
     "output_type": "stream",
     "text": [
      "Iteration 500: loss: 31.674897015094757"
     ]
    },
    {
     "name": "stdout",
     "output_type": "stream",
     "text": [
      "======================================================================\n",
      "word_disjoint\n",
      "             precision    recall  f1-score   support\n",
      "\n",
      "    antonym       0.00      0.00      0.00       150\n",
      "   hypernym       0.52      0.46      0.48      1594\n",
      "    hyponym       0.67      0.01      0.01       275\n",
      "    synonym       0.59      0.75      0.66      2229\n",
      "\n",
      "avg / total       0.54      0.56      0.53      4248\n",
      "\n"
     ]
    }
   ],
   "source": [
    "aug_reweight_X = nli.build_bakeoff_dataset(\n",
    "        resample_aug_wordentail_data, \n",
    "        vector_func=glove50vec,\n",
    "        vector_combo_func=vec_concatenate)\n",
    "model = TfShallowNeuralClassifier(hidden_dim=50, max_iter=500)\n",
    "nli.bakeoff_experiment(aug_reweight_X, model, conditions=['word_disjoint'])"
   ]
  },
  {
   "cell_type": "code",
   "execution_count": 66,
   "metadata": {},
   "outputs": [
    {
     "name": "stderr",
     "output_type": "stream",
     "text": [
      "Iteration 300: loss: 33.572845458984375"
     ]
    },
    {
     "name": "stdout",
     "output_type": "stream",
     "text": [
      "======================================================================\n",
      "word_disjoint\n",
      "             precision    recall  f1-score   support\n",
      "\n",
      "    antonym       0.00      0.00      0.00       150\n",
      "   hypernym       0.52      0.41      0.46      1594\n",
      "    hyponym       0.00      0.00      0.00       275\n",
      "    synonym       0.58      0.78      0.66      2229\n",
      "\n",
      "avg / total       0.50      0.56      0.52      4248\n",
      "\n"
     ]
    }
   ],
   "source": [
    "aug_reweight_X = nli.build_bakeoff_dataset(\n",
    "        resample_aug_wordentail_data, \n",
    "        vector_func=glove50vec,\n",
    "        vector_combo_func=vec_concatenate)\n",
    "model = TfShallowNeuralClassifier(hidden_dim=50, max_iter=300)\n",
    "nli.bakeoff_experiment(aug_reweight_X, model, conditions=['word_disjoint'])"
   ]
  },
  {
   "cell_type": "code",
   "execution_count": 65,
   "metadata": {},
   "outputs": [
    {
     "name": "stderr",
     "output_type": "stream",
     "text": [
      "Iteration 3000: loss: 26.672155380249023"
     ]
    },
    {
     "name": "stdout",
     "output_type": "stream",
     "text": [
      "======================================================================\n",
      "word_disjoint\n",
      "             precision    recall  f1-score   support\n",
      "\n",
      "    antonym       0.12      0.01      0.01       150\n",
      "   hypernym       0.51      0.41      0.46      1594\n",
      "    hyponym       0.27      0.01      0.03       275\n",
      "    synonym       0.58      0.76      0.66      2229\n",
      "\n",
      "avg / total       0.52      0.56      0.52      4248\n",
      "\n"
     ]
    }
   ],
   "source": [
    "aug_reweight_X = nli.build_bakeoff_dataset(\n",
    "        resample_aug_wordentail_data, \n",
    "        vector_func=glove50vec,\n",
    "        vector_combo_func=vec_concatenate)\n",
    "model = TfShallowNeuralClassifierWithDropout(hidden_dim=300, max_iter=3000)\n",
    "nli.bakeoff_experiment(aug_reweight_X, model, conditions=['word_disjoint'])"
   ]
  },
  {
   "cell_type": "code",
   "execution_count": 64,
   "metadata": {},
   "outputs": [
    {
     "name": "stderr",
     "output_type": "stream",
     "text": [
      "Iteration 3000: loss: 27.134022831916816"
     ]
    },
    {
     "name": "stdout",
     "output_type": "stream",
     "text": [
      "======================================================================\n",
      "word_disjoint\n",
      "             precision    recall  f1-score   support\n",
      "\n",
      "    antonym       0.20      0.01      0.01       150\n",
      "   hypernym       0.48      0.41      0.44      1594\n",
      "    hyponym       0.00      0.00      0.00       275\n",
      "    synonym       0.57      0.74      0.64      2229\n",
      "\n",
      "avg / total       0.49      0.54      0.50      4248\n",
      "\n"
     ]
    }
   ],
   "source": [
    "aug_reweight_X = nli.build_bakeoff_dataset(\n",
    "        resample_aug_wordentail_data, \n",
    "        vector_func=glove50vec_synonym,\n",
    "        vector_combo_func=vec_concatenate)\n",
    "model = TfShallowNeuralClassifierWithDropout(hidden_dim=300, max_iter=3000)\n",
    "nli.bakeoff_experiment(aug_reweight_X, model, conditions=['word_disjoint'])"
   ]
  },
  {
   "cell_type": "code",
   "execution_count": 173,
   "metadata": {},
   "outputs": [
    {
     "name": "stderr",
     "output_type": "stream",
     "text": [
      "Iteration 500: loss: 17.443665981292725"
     ]
    },
    {
     "name": "stdout",
     "output_type": "stream",
     "text": [
      "======================================================================\n",
      "word_disjoint\n",
      "             precision    recall  f1-score   support\n",
      "\n",
      "    antonym       0.00      0.00      0.00       150\n",
      "   hypernym       0.55      0.46      0.50      1594\n",
      "    hyponym       0.17      0.00      0.01       275\n",
      "    synonym       0.59      0.77      0.67      2229\n",
      "\n",
      "avg / total       0.53      0.58      0.54      4248\n",
      "\n"
     ]
    },
    {
     "name": "stderr",
     "output_type": "stream",
     "text": [
      "/Users/itsmrlin/workspace/cs224u/venv/lib/python3.6/site-packages/sklearn/metrics/classification.py:1135: UndefinedMetricWarning: Precision and F-score are ill-defined and being set to 0.0 in labels with no predicted samples.\n",
      "  'precision', 'predicted', average, warn_for)\n"
     ]
    }
   ],
   "source": [
    "nli.bakeoff_experiment(aug_X, net, conditions=['word_disjoint'])"
   ]
  },
  {
   "cell_type": "code",
   "execution_count": 34,
   "metadata": {},
   "outputs": [],
   "source": [
    "class TfShallowNeuralClassifierWithDropout(TfShallowNeuralClassifier):\n",
    "    def __init__(self, hidden_dim=50, keep_prob=0.8, **kwargs):\n",
    "        self.hidden_dim = hidden_dim\n",
    "        self.keep_prob = keep_prob\n",
    "        super(TfShallowNeuralClassifierWithDropout, self).__init__(**kwargs)        \n",
    "                    \n",
    "    def build_graph(self):\n",
    "        # All the parameters of `TfShallowNeuralClassifier`:\n",
    "        self.define_parameters()\n",
    "        \n",
    "        # Same hidden layer:\n",
    "        self.hidden = tf.nn.relu(\n",
    "            tf.matmul(self.inputs, self.W_xh) + self.b_h)\n",
    "        \n",
    "        # Drop-out on the hidden layer:\n",
    "        self.tf_keep_prob = tf.placeholder(tf.float32)\n",
    "        dropout_layer = tf.nn.dropout(self.hidden, self.tf_keep_prob)\n",
    "        \n",
    "        # `dropout_layer` instead of `hidden` to define full model:\n",
    "        self.model = tf.matmul(dropout_layer, self.W_hy) + self.b_y            \n",
    "                \n",
    "    def train_dict(self, X, y):\n",
    "        return {self.inputs: X, self.outputs: y, \n",
    "                self.tf_keep_prob: self.keep_prob}\n",
    "    \n",
    "    def test_dict(self, X):\n",
    "        # No dropout at test-time, hence `self.tf_keep_prob: 1.0\n",
    "        return {self.inputs: X, self.tf_keep_prob: 1.0}"
   ]
  },
  {
   "cell_type": "code",
   "execution_count": 216,
   "metadata": {},
   "outputs": [
    {
     "name": "stderr",
     "output_type": "stream",
     "text": [
      "Iteration 300: loss: 25.792278885841377"
     ]
    },
    {
     "name": "stdout",
     "output_type": "stream",
     "text": [
      "======================================================================\n",
      "word_disjoint\n",
      "             precision    recall  f1-score   support\n",
      "\n",
      "    antonym       0.00      0.00      0.00       150\n",
      "   hypernym       0.50      0.37      0.42      1594\n",
      "    hyponym       0.00      0.00      0.00       275\n",
      "    synonym       0.57      0.79      0.66      2229\n",
      "\n",
      "avg / total       0.49      0.55      0.51      4248\n",
      "\n"
     ]
    },
    {
     "name": "stderr",
     "output_type": "stream",
     "text": [
      "/Users/itsmrlin/workspace/cs224u/venv/lib/python3.6/site-packages/sklearn/metrics/classification.py:1135: UndefinedMetricWarning: Precision and F-score are ill-defined and being set to 0.0 in labels with no predicted samples.\n",
      "  'precision', 'predicted', average, warn_for)\n"
     ]
    }
   ],
   "source": [
    "nli.bakeoff_experiment(aug_reweight_X, model, conditions=['word_disjoint'])"
   ]
  },
  {
   "cell_type": "code",
   "execution_count": 242,
   "metadata": {},
   "outputs": [
    {
     "name": "stderr",
     "output_type": "stream",
     "text": [
      "Iteration 500: loss: 34.357860445976266"
     ]
    },
    {
     "name": "stdout",
     "output_type": "stream",
     "text": [
      "======================================================================\n",
      "word_disjoint\n",
      "             precision    recall  f1-score   support\n",
      "\n",
      "    antonym       0.11      0.41      0.17       150\n",
      "   hypernym       0.51      0.49      0.50      1594\n",
      "    hyponym       0.12      0.40      0.18       275\n",
      "    synonym       0.60      0.33      0.43      2229\n",
      "\n",
      "avg / total       0.52      0.40      0.43      4248\n",
      "\n"
     ]
    }
   ],
   "source": [
    "nli.bakeoff_experiment(aug_X, net, conditions=['word_disjoint'])"
   ]
  },
  {
   "cell_type": "code",
   "execution_count": 243,
   "metadata": {},
   "outputs": [
    {
     "name": "stderr",
     "output_type": "stream",
     "text": [
      "Iteration 500: loss: 38.666366517543794"
     ]
    },
    {
     "name": "stdout",
     "output_type": "stream",
     "text": [
      "======================================================================\n",
      "word_disjoint\n",
      "             precision    recall  f1-score   support\n",
      "\n",
      "    antonym       0.09      0.36      0.14       150\n",
      "   hypernym       0.51      0.50      0.51      1594\n",
      "    hyponym       0.12      0.41      0.18       275\n",
      "    synonym       0.61      0.30      0.40      2229\n",
      "\n",
      "avg / total       0.52      0.39      0.42      4248\n",
      "\n"
     ]
    }
   ],
   "source": [
    "model = TfShallowNeuralClassifierWithDropout(hidden_dim=200, max_iter=500)\n",
    "nli.bakeoff_experiment(aug_X, model, conditions=['word_disjoint'])"
   ]
  },
  {
   "cell_type": "code",
   "execution_count": 70,
   "metadata": {
    "scrolled": true
   },
   "outputs": [
    {
     "name": "stderr",
     "output_type": "stream",
     "text": [
      "Iteration 1000: loss: 9.622217893600464"
     ]
    },
    {
     "name": "stdout",
     "output_type": "stream",
     "text": [
      "======================================================================\n",
      "word_disjoint\n",
      "             precision    recall  f1-score   support\n",
      "\n",
      "    antonym       0.00      0.00      0.00       150\n",
      "   hypernym       0.54      0.38      0.45      1594\n",
      "    hyponym       0.00      0.00      0.00       275\n",
      "    synonym       0.57      0.80      0.67      2229\n",
      "\n",
      "avg / total       0.50      0.57      0.52      4248\n",
      "\n"
     ]
    }
   ],
   "source": [
    "nli.bakeoff_experiment(X, model, conditions=['word_disjoint'])"
   ]
  }
 ],
 "metadata": {
  "kernelspec": {
   "display_name": "Python 3",
   "language": "python",
   "name": "python3"
  },
  "language_info": {
   "codemirror_mode": {
    "name": "ipython",
    "version": 3
   },
   "file_extension": ".py",
   "mimetype": "text/x-python",
   "name": "python",
   "nbconvert_exporter": "python",
   "pygments_lexer": "ipython3",
   "version": "3.6.5"
  }
 },
 "nbformat": 4,
 "nbformat_minor": 1
}
